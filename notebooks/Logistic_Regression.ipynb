{
 "cells": [
  {
   "cell_type": "code",
   "execution_count": 51,
   "metadata": {},
   "outputs": [
    {
     "data": {
      "application/javascript": [
       "require.config({paths: {toc: \"//rawgit.com/rweigel/js-rsw/master/jupyter/toc\"}});require([\"toc\"]);"
      ],
      "text/plain": [
       "<IPython.core.display.Javascript object>"
      ]
     },
     "metadata": {},
     "output_type": "display_data"
    }
   ],
   "source": [
    "%%javascript\n",
    "require.config({paths: {toc: \"//rawgit.com/rweigel/js-rsw/master/jupyter/toc\"}});require([\"toc\"]);"
   ]
  },
  {
   "cell_type": "code",
   "execution_count": 46,
   "metadata": {},
   "outputs": [
    {
     "name": "stdout",
     "output_type": "stream",
     "text": [
      "Odds ratio: 0.216495\n",
      "Logit Odds ratio: 0.216495\n",
      "Odds ratio from table inspection: 0.216495\n",
      "[0.1779661]\n",
      "0.17647058823529413\n",
      "[0.5]\n"
     ]
    }
   ],
   "source": [
    "import statsmodels.api as sm\n",
    "import pylab as pl\n",
    "import pandas as pd\n",
    "import numpy as np\n",
    "\n",
    "# Load merged database\n",
    "dfMerged = pd.read_pickle('Merged_Database.pkl')\n",
    "dfMerged.loc[dfMerged['NUM_ANIMALS'] > 0, 'ANIMALS_BINARY'] = 1 # 0 = no event; 1 = event\n",
    "dfMerged['ANIMALS_BINARY'].fillna(0.,inplace=True)\n",
    "\n",
    "dfMerged['ANIMALS_BINARY-LAG-1'] = dfMerged['ANIMALS_BINARY'].shift(1).fillna(0.)\n",
    "dfMerged['ANIMALS_BINARY-LAG-2'] = dfMerged['ANIMALS_BINARY'].shift(2).fillna(0.)\n",
    "\n",
    "a = float(dfMerged[ (dfMerged['ANIMALS_BINARY-LAG-1'] == 1.) & (dfMerged['ANIMALS_BINARY'] == 1.) ]['NUM_ANIMALS'].size)\n",
    "b = float(dfMerged[ (dfMerged['ANIMALS_BINARY-LAG-1'] == 1.) & (dfMerged['ANIMALS_BINARY'] == 0.) ]['NUM_ANIMALS'].size)\n",
    "c = float(dfMerged[ (dfMerged['ANIMALS_BINARY-LAG-1'] == 0.) & (dfMerged['ANIMALS_BINARY'] == 1.) ]['NUM_ANIMALS'].size)\n",
    "d = float(dfMerged[ (dfMerged['ANIMALS_BINARY-LAG-1'] == 0.) & (dfMerged['ANIMALS_BINARY'] == 0.) ]['NUM_ANIMALS'].size)\n",
    "\n",
    "print('Odds ratio: %.6f' % (a/b))\n",
    "logit = sm.Logit(dfMerged['ANIMALS_BINARY'],dfMerged['ANIMALS_BINARY-LAG-1'])\n",
    "result = logit.fit(disp=0)\n",
    "#print(result.summary())\n",
    "print(\"Logit Odds ratio: %.6f\" % np.exp(result.params)[0])\n",
    "print(\"Odds ratio from table inspection: %.6f\" % (21./97.))\n",
    "print(result.predict([1.]))\n",
    "print(21/(98+21))\n",
    "print(result.predict([0.]))"
   ]
  },
  {
   "cell_type": "markdown",
   "metadata": {},
   "source": [
    "# `ANIMALS_BINARY-LAG-1 = 0 or 1` outcomes"
   ]
  },
  {
   "cell_type": "code",
   "execution_count": 23,
   "metadata": {},
   "outputs": [
    {
     "data": {
      "text/html": [
       "<div>\n",
       "<style scoped>\n",
       "    .dataframe tbody tr th:only-of-type {\n",
       "        vertical-align: middle;\n",
       "    }\n",
       "\n",
       "    .dataframe tbody tr th {\n",
       "        vertical-align: top;\n",
       "    }\n",
       "\n",
       "    .dataframe thead th {\n",
       "        text-align: right;\n",
       "    }\n",
       "</style>\n",
       "<table border=\"1\" class=\"dataframe\">\n",
       "  <thead>\n",
       "    <tr style=\"text-align: right;\">\n",
       "      <th>ANIMALS_BINARY-LAG-1</th>\n",
       "      <th>0.0</th>\n",
       "      <th>1.0</th>\n",
       "    </tr>\n",
       "    <tr>\n",
       "      <th>ANIMALS_BINARY</th>\n",
       "      <th></th>\n",
       "      <th></th>\n",
       "    </tr>\n",
       "  </thead>\n",
       "  <tbody>\n",
       "    <tr>\n",
       "      <th>0.0</th>\n",
       "      <td>5455</td>\n",
       "      <td>97</td>\n",
       "    </tr>\n",
       "    <tr>\n",
       "      <th>1.0</th>\n",
       "      <td>98</td>\n",
       "      <td>21</td>\n",
       "    </tr>\n",
       "  </tbody>\n",
       "</table>\n",
       "</div>"
      ],
      "text/plain": [
       "ANIMALS_BINARY-LAG-1   0.0  1.0\n",
       "ANIMALS_BINARY                 \n",
       "0.0                   5455   97\n",
       "1.0                     98   21"
      ]
     },
     "execution_count": 23,
     "metadata": {},
     "output_type": "execute_result"
    }
   ],
   "source": [
    "pd.crosstab(dfMerged['ANIMALS_BINARY'],dfMerged['ANIMALS_BINARY-LAG-1'])"
   ]
  },
  {
   "cell_type": "markdown",
   "metadata": {},
   "source": [
    "# `ANIMALS_BINARY-LAG-2 = 1` outcomes"
   ]
  },
  {
   "cell_type": "code",
   "execution_count": 19,
   "metadata": {},
   "outputs": [
    {
     "data": {
      "text/html": [
       "<div>\n",
       "<style scoped>\n",
       "    .dataframe tbody tr th:only-of-type {\n",
       "        vertical-align: middle;\n",
       "    }\n",
       "\n",
       "    .dataframe tbody tr th {\n",
       "        vertical-align: top;\n",
       "    }\n",
       "\n",
       "    .dataframe thead th {\n",
       "        text-align: right;\n",
       "    }\n",
       "</style>\n",
       "<table border=\"1\" class=\"dataframe\">\n",
       "  <thead>\n",
       "    <tr style=\"text-align: right;\">\n",
       "      <th>ANIMALS_BINARY-LAG-1</th>\n",
       "      <th>0.0</th>\n",
       "      <th>1.0</th>\n",
       "    </tr>\n",
       "    <tr>\n",
       "      <th>ANIMALS_BINARY</th>\n",
       "      <th></th>\n",
       "      <th></th>\n",
       "    </tr>\n",
       "  </thead>\n",
       "  <tbody>\n",
       "    <tr>\n",
       "      <th>0.0</th>\n",
       "      <td>90</td>\n",
       "      <td>13</td>\n",
       "    </tr>\n",
       "    <tr>\n",
       "      <th>1.0</th>\n",
       "      <td>7</td>\n",
       "      <td>8</td>\n",
       "    </tr>\n",
       "  </tbody>\n",
       "</table>\n",
       "</div>"
      ],
      "text/plain": [
       "ANIMALS_BINARY-LAG-1  0.0  1.0\n",
       "ANIMALS_BINARY                \n",
       "0.0                    90   13\n",
       "1.0                     7    8"
      ]
     },
     "execution_count": 19,
     "metadata": {},
     "output_type": "execute_result"
    }
   ],
   "source": [
    "data = dfMerged[ (dfMerged['ANIMALS_BINARY-LAG-2'] == 1.) ]\n",
    "pd.crosstab(data['ANIMALS_BINARY'],data['ANIMALS_BINARY-LAG-1'])"
   ]
  },
  {
   "cell_type": "markdown",
   "metadata": {},
   "source": [
    "# `ANIMALS_BINARY-LAG-2 = 0` outcomes"
   ]
  },
  {
   "cell_type": "code",
   "execution_count": 20,
   "metadata": {},
   "outputs": [
    {
     "data": {
      "text/html": [
       "<div>\n",
       "<style scoped>\n",
       "    .dataframe tbody tr th:only-of-type {\n",
       "        vertical-align: middle;\n",
       "    }\n",
       "\n",
       "    .dataframe tbody tr th {\n",
       "        vertical-align: top;\n",
       "    }\n",
       "\n",
       "    .dataframe thead th {\n",
       "        text-align: right;\n",
       "    }\n",
       "</style>\n",
       "<table border=\"1\" class=\"dataframe\">\n",
       "  <thead>\n",
       "    <tr style=\"text-align: right;\">\n",
       "      <th>ANIMALS_BINARY-LAG-1</th>\n",
       "      <th>0.0</th>\n",
       "      <th>1.0</th>\n",
       "    </tr>\n",
       "    <tr>\n",
       "      <th>ANIMALS_BINARY</th>\n",
       "      <th></th>\n",
       "      <th></th>\n",
       "    </tr>\n",
       "  </thead>\n",
       "  <tbody>\n",
       "    <tr>\n",
       "      <th>0.0</th>\n",
       "      <td>5365</td>\n",
       "      <td>84</td>\n",
       "    </tr>\n",
       "    <tr>\n",
       "      <th>1.0</th>\n",
       "      <td>91</td>\n",
       "      <td>13</td>\n",
       "    </tr>\n",
       "  </tbody>\n",
       "</table>\n",
       "</div>"
      ],
      "text/plain": [
       "ANIMALS_BINARY-LAG-1   0.0  1.0\n",
       "ANIMALS_BINARY                 \n",
       "0.0                   5365   84\n",
       "1.0                     91   13"
      ]
     },
     "execution_count": 20,
     "metadata": {},
     "output_type": "execute_result"
    }
   ],
   "source": [
    "data = dfMerged[ (dfMerged['ANIMALS_BINARY-LAG-2'] == 0.) ]\n",
    "pd.crosstab(data['ANIMALS_BINARY'],data['ANIMALS_BINARY-LAG-1'])"
   ]
  }
 ],
 "metadata": {
  "kernelspec": {
   "display_name": "Python 3",
   "language": "python",
   "name": "python3"
  },
  "language_info": {
   "codemirror_mode": {
    "name": "ipython",
    "version": 3
   },
   "file_extension": ".py",
   "mimetype": "text/x-python",
   "name": "python",
   "nbconvert_exporter": "python",
   "pygments_lexer": "ipython3",
   "version": "3.6.5"
  }
 },
 "nbformat": 4,
 "nbformat_minor": 2
}
